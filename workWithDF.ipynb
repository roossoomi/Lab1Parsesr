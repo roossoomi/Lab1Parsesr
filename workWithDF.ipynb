{
 "cells": [
  {
   "cell_type": "code",
   "execution_count": 3,
   "id": "4a45bb2b-0b44-48ca-a20f-1a7630545a5d",
   "metadata": {},
   "outputs": [],
   "source": [
    "import pandas as pd\n",
    "import json"
   ]
  },
  {
   "cell_type": "code",
   "execution_count": 7,
   "id": "2963594a-1783-49e2-a772-6fa4d13b20fb",
   "metadata": {},
   "outputs": [
    {
     "name": "stdout",
     "output_type": "stream",
     "text": [
      "                                         dish_name         author  \\\n",
      "1                             Бенто торт корейский     katushafin   \n",
      "2               Торт Медовик заварной классический         Юлия М   \n",
      "3                          Торт с цветами из крема         Юлия М   \n",
      "4                   Бисквит классический в духовке          Ириша   \n",
      "5                                Бисквит на молоке     katushafin   \n",
      "...                                            ...            ...   \n",
      "1475                     Шоколадный торт-мороженое     NashaDasha   \n",
      "1476  Бисквит для торта пышный и простой в духовке         Юлия М   \n",
      "1477                Домашний классический тирамису  Виктория #702   \n",
      "1478  Конфеты Птичье молоко домашние на агар агаре     katushafin   \n",
      "1479                                Мокрый бисквит    Елена #1385   \n",
      "\n",
      "      grams_protein  percent_protein  grams_carb  percent_carb  grams_fat  \\\n",
      "1               9.0             15.0        28.0          46.0       24.0   \n",
      "2               5.0              9.0        33.0          61.0       16.0   \n",
      "3               4.0              8.0        33.0          69.0       11.0   \n",
      "4               8.0             13.0        51.0          80.0        5.0   \n",
      "5               8.0             14.0        39.0          70.0        9.0   \n",
      "...             ...              ...         ...           ...        ...   \n",
      "1475            2.0              3.0        34.0          55.0       26.0   \n",
      "1476            8.0             13.0        48.0          79.0        5.0   \n",
      "1477           10.0             19.0        28.0          53.0       15.0   \n",
      "1478            3.0              4.0        45.0          67.0       19.0   \n",
      "1479            5.0              8.0        47.0          77.0        9.0   \n",
      "\n",
      "      percent_fat  calories  low_carb  medium_carb  high_carb   total_time  \\\n",
      "1            39.0     306.0      18.0          0.0       82.0         1 д    \n",
      "2            30.0     305.0       3.0          0.0       97.0         1 д    \n",
      "3            23.0     253.0       9.0          0.0       91.0         1 д    \n",
      "4             8.0     291.0       0.0          2.0       98.0         1 ч    \n",
      "5            16.0     276.0      13.0          0.0       87.0         1 ч    \n",
      "...           ...       ...       ...          ...        ...          ...   \n",
      "1475         42.0     365.0      12.0         12.0       76.0  1 ч 40 мин    \n",
      "1476          8.0     283.0       2.0          0.0       98.0         1 ч    \n",
      "1477         28.0     297.0      14.0         57.0       29.0  3 ч 20 мин    \n",
      "1478         28.0     365.0       2.0          0.0       98.0         5 ч    \n",
      "1479         15.0     293.0      24.0          4.0       72.0  1 ч 20 мин    \n",
      "\n",
      "      number_of_steps  \n",
      "1                24.0  \n",
      "2                16.0  \n",
      "3                20.0  \n",
      "4                16.0  \n",
      "5                12.0  \n",
      "...               ...  \n",
      "1475              NaN  \n",
      "1476              8.0  \n",
      "1477             10.0  \n",
      "1478             16.0  \n",
      "1479             16.0  \n",
      "\n",
      "[1479 rows x 14 columns]\n"
     ]
    }
   ],
   "source": [
    "data = pd.read_json('parametrs.json', orient='index')\n",
    "numeric_cols = ['grams_protein', 'percent_protein', 'grams_carb', 'percent_carb', 'grams_fat',\n",
    "               'percent_fat', 'calories', 'low_carb', 'medium_carb', 'high_carb', 'number_of_steps']\n",
    "data[numeric_cols] = data[numeric_cols].astype(float)\n",
    "print(data)"
   ]
  },
  {
   "cell_type": "code",
   "execution_count": 20,
   "id": "e83245cf-91cc-4570-b79f-891405292b9c",
   "metadata": {},
   "outputs": [
    {
     "name": "stdout",
     "output_type": "stream",
     "text": [
      "         author\n",
      "0    katushafin\n",
      "1        Юлия М\n",
      "2         Ириша\n",
      "3       Esenija\n",
      "4         Мария\n",
      "..          ...\n",
      "413      valeri\n",
      "414     Аделя♥♥\n",
      "415     svetika\n",
      "416    Брюнетка\n",
      "417      Namira\n",
      "\n",
      "[418 rows x 1 columns]\n"
     ]
    }
   ],
   "source": [
    "unique_authors = data['author'].unique()\n",
    "df_unique_authors = pd.DataFrame({'author': unique_authors})\n",
    "print(df_unique_authors)\n"
   ]
  },
  {
   "cell_type": "code",
   "execution_count": 9,
   "id": "1d34f737-972f-4709-82af-7df2cbec72aa",
   "metadata": {},
   "outputs": [
    {
     "name": "stdout",
     "output_type": "stream",
     "text": [
      "                                         dish_name      author  grams_protein  \\\n",
      "6              Ленивый медовик без раскатки коржей     Esenija            4.0   \n",
      "9                  Кухен немецкий пирог шоколадный     Esenija            6.0   \n",
      "12                                     Баноффи пай       Мария            3.0   \n",
      "18                           Мини тортики домашние  СИНЕГЛАЗАЯ            5.0   \n",
      "19                 Чизкейк с желатином без выпечки        Юлия            9.0   \n",
      "...                                            ...         ...            ...   \n",
      "1467                               Торт Славянский     Annelly            8.0   \n",
      "1472                                Торт Смуглянка   KateriNNa            5.0   \n",
      "1474              Шоколадный торт со вкусом ванили  NashaDasha            6.0   \n",
      "1475                     Шоколадный торт-мороженое  NashaDasha            2.0   \n",
      "1478  Конфеты Птичье молоко домашние на агар агаре  katushafin            3.0   \n",
      "\n",
      "      percent_protein  grams_carb  percent_carb  grams_fat  percent_fat  \\\n",
      "6                 7.0        39.0          66.0       16.0         27.0   \n",
      "9                 9.0        43.0          63.0       19.0         28.0   \n",
      "12                6.0        31.0          58.0       19.0         36.0   \n",
      "18                9.0        26.0          45.0       27.0         47.0   \n",
      "19               18.0        20.0          39.0       22.0         43.0   \n",
      "...               ...         ...           ...        ...          ...   \n",
      "1467             12.0        38.0          57.0       21.0         31.0   \n",
      "1472              7.0        50.0          67.0       20.0         27.0   \n",
      "1474              8.0        39.0          51.0       31.0         41.0   \n",
      "1475              3.0        34.0          55.0       26.0         42.0   \n",
      "1478              4.0        45.0          67.0       19.0         28.0   \n",
      "\n",
      "      calories  low_carb  medium_carb  high_carb   total_time  number_of_steps  \n",
      "6        329.0       3.0          3.0       95.0         2 ч              13.0  \n",
      "9        373.0       5.0          2.0       93.0      55 мин              10.0  \n",
      "12       355.0       3.0         45.0       52.0         4 ч              20.0  \n",
      "18       365.0       8.0          0.0       92.0         1 д              27.0  \n",
      "19       351.0       5.0         45.0       50.0         6 ч              18.0  \n",
      "...        ...       ...          ...        ...          ...              ...  \n",
      "1467     372.0       0.0          0.0      100.0  2 ч 40 мин               NaN  \n",
      "1472     402.0      14.0          0.0       86.0  1 ч 30 мин              11.0  \n",
      "1474     460.0       3.0          0.0       97.0         2 ч               7.0  \n",
      "1475     365.0      12.0         12.0       76.0  1 ч 40 мин               NaN  \n",
      "1478     365.0       2.0          0.0       98.0         5 ч              16.0  \n",
      "\n",
      "[706 rows x 14 columns]\n",
      "312.5483434753212\n"
     ]
    }
   ],
   "source": [
    "average_calories = data['calories'].mean()\n",
    "df_high_calories = data[data['calories'] > average_calories]\n",
    "print(df_high_calories)\n",
    "print(average_calories)"
   ]
  },
  {
   "cell_type": "code",
   "execution_count": 56,
   "id": "ab9e27f4-01ac-4170-bd1a-65b5ceee7ea0",
   "metadata": {},
   "outputs": [
    {
     "name": "stdout",
     "output_type": "stream",
     "text": [
      "                                        dish_name           author  \\\n",
      "162                        Бисквит из соевой муки          maasika   \n",
      "282  Закусочный торт Наполеон с курицей и грибами  Рецепты Вредины   \n",
      "375  Желейный торт с ягодами и шоколадной крошкой           Ellisa   \n",
      "418                                 Торт Тирамису           Милада   \n",
      "\n",
      "     grams_protein  percent_protein  grams_carb  percent_carb  grams_fat  \\\n",
      "162           19.0             35.0        32.0          59.0        3.0   \n",
      "282           11.0             39.0         5.0          18.0       12.0   \n",
      "375            9.0             38.0         7.0          29.0        8.0   \n",
      "418           13.0             45.0        10.0          34.0        6.0   \n",
      "\n",
      "     percent_fat  calories  low_carb  medium_carb  high_carb total_time  \\\n",
      "162          6.0     236.0      19.0          0.0       81.0    40 мин    \n",
      "282         43.0     169.0      40.0         60.0        0.0    30 мин    \n",
      "375         33.0     140.0      50.0          0.0       50.0       4 ч    \n",
      "418         21.0     153.0      10.0          0.0       90.0       5 ч    \n",
      "\n",
      "     number_of_steps  \n",
      "162              NaN  \n",
      "282              NaN  \n",
      "375             18.0  \n",
      "418              NaN  \n"
     ]
    }
   ],
   "source": [
    "highProt =data.loc[:, 'percent_protein']>=35\n",
    "print(data.loc[highProt]) "
   ]
  },
  {
   "cell_type": "code",
   "execution_count": 71,
   "id": "7820a702-4068-4ef9-bd04-efdbeb3a31bf",
   "metadata": {},
   "outputs": [
    {
     "name": "stdout",
     "output_type": "stream",
     "text": [
      "                                         dish_name         author  \\\n",
      "1                             Бенто торт корейский     katushafin   \n",
      "2               Торт Медовик заварной классический         Юлия М   \n",
      "3                          Торт с цветами из крема         Юлия М   \n",
      "4                   Бисквит классический в духовке          Ириша   \n",
      "5                                Бисквит на молоке     katushafin   \n",
      "...                                            ...            ...   \n",
      "1475                     Шоколадный торт-мороженое     NashaDasha   \n",
      "1476  Бисквит для торта пышный и простой в духовке         Юлия М   \n",
      "1477                Домашний классический тирамису  Виктория #702   \n",
      "1478  Конфеты Птичье молоко домашние на агар агаре     katushafin   \n",
      "1479                                Мокрый бисквит    Елена #1385   \n",
      "\n",
      "      grams_protein  percent_protein  grams_carb  percent_carb  grams_fat  \\\n",
      "1               9.0             15.0        28.0          46.0       24.0   \n",
      "2               5.0              9.0        33.0          61.0       16.0   \n",
      "3               4.0              8.0        33.0          69.0       11.0   \n",
      "4               8.0             13.0        51.0          80.0        5.0   \n",
      "5               8.0             14.0        39.0          70.0        9.0   \n",
      "...             ...              ...         ...           ...        ...   \n",
      "1475            2.0              3.0        34.0          55.0       26.0   \n",
      "1476            8.0             13.0        48.0          79.0        5.0   \n",
      "1477           10.0             19.0        28.0          53.0       15.0   \n",
      "1478            3.0              4.0        45.0          67.0       19.0   \n",
      "1479            5.0              8.0        47.0          77.0        9.0   \n",
      "\n",
      "      percent_fat  calories  low_carb  medium_carb  high_carb   total_time  \\\n",
      "1            39.0     306.0      18.0          0.0       82.0         1 д    \n",
      "2            30.0     305.0       3.0          0.0       97.0         1 д    \n",
      "3            23.0     253.0       9.0          0.0       91.0         1 д    \n",
      "4             8.0     291.0       0.0          2.0       98.0         1 ч    \n",
      "5            16.0     276.0      13.0          0.0       87.0         1 ч    \n",
      "...           ...       ...       ...          ...        ...          ...   \n",
      "1475         42.0     365.0      12.0         12.0       76.0  1 ч 40 мин    \n",
      "1476          8.0     283.0       2.0          0.0       98.0         1 ч    \n",
      "1477         28.0     297.0      14.0         57.0       29.0  3 ч 20 мин    \n",
      "1478         28.0     365.0       2.0          0.0       98.0         5 ч    \n",
      "1479         15.0     293.0      24.0          4.0       72.0  1 ч 20 мин    \n",
      "\n",
      "      number_of_steps                                          dish_info  \n",
      "1                24.0               Бенто торт корейский - 306.0 калорий  \n",
      "2                16.0  Торт Медовик заварной классический - 305.0 кал...  \n",
      "3                20.0            Торт с цветами из крема - 253.0 калорий  \n",
      "4                16.0     Бисквит классический в духовке - 291.0 калорий  \n",
      "5                12.0                  Бисквит на молоке - 276.0 калорий  \n",
      "...               ...                                                ...  \n",
      "1475              NaN          Шоколадный торт-мороженое - 365.0 калорий  \n",
      "1476              8.0  Бисквит для торта пышный и простой в духовке -...  \n",
      "1477             10.0     Домашний классический тирамису - 297.0 калорий  \n",
      "1478             16.0  Конфеты Птичье молоко домашние на агар агаре -...  \n",
      "1479             16.0                     Мокрый бисквит - 293.0 калорий  \n",
      "\n",
      "[1479 rows x 15 columns]\n"
     ]
    }
   ],
   "source": [
    "def combine_col(col):\n",
    "    col_new = str(col['dish_name']) + ' - ' + str(col['calories']) + ' калорий'  \n",
    "    return col_new\n",
    "data['dish_info']=data.apply(combine_col, axis=1)\n",
    "print(data)"
   ]
  },
  {
   "cell_type": "code",
   "execution_count": null,
   "id": "9a3f8edf-68bf-45fc-85ef-da49eddfbb2d",
   "metadata": {},
   "outputs": [],
   "source": []
  }
 ],
 "metadata": {
  "kernelspec": {
   "display_name": "Python 3 (ipykernel)",
   "language": "python",
   "name": "python3"
  },
  "language_info": {
   "codemirror_mode": {
    "name": "ipython",
    "version": 3
   },
   "file_extension": ".py",
   "mimetype": "text/x-python",
   "name": "python",
   "nbconvert_exporter": "python",
   "pygments_lexer": "ipython3",
   "version": "3.9.10"
  }
 },
 "nbformat": 4,
 "nbformat_minor": 5
}
